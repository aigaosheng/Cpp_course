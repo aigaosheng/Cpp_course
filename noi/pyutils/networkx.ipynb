{
 "cells": [
  {
   "cell_type": "code",
   "execution_count": 1,
   "metadata": {},
   "outputs": [
    {
     "data": {
      "text/plain": [
       "{1: 0, 2: 0, 3: 0, 'spam': 0, 'spam22': 0}"
      ]
     },
     "execution_count": 1,
     "metadata": {},
     "output_type": "execute_result"
    }
   ],
   "source": [
    "import networkx as nx\n",
    "import matplotlib.pyplot as plt\n",
    "G = nx.Graph()\n",
    "G.add_edges_from([(1, 2),(1,3)])\n",
    "G.add_node(\"spam\")\n",
    "G.add_node(\"spam22\")\n",
    "list(nx.connected_components(G))\n",
    "nx.clustering(G)\n"
   ]
  },
  {
   "cell_type": "code",
   "execution_count": 12,
   "metadata": {},
   "outputs": [
    {
     "data": {
      "image/png": "[encoded data removed]",
      "text/plain": [
       "<Figure size 432x288 with 1 Axes>"
      ]
     },
     "metadata": {},
     "output_type": "display_data"
    }
   ],
   "source": [
    "G.add_node(\"spam\")\n",
    "plt.subplot(121)\n",
    "nx.draw(G, with_labels=True, font_weight='bold')"
   ]
  },
  {
   "cell_type": "code",
   "execution_count": 44,
   "metadata": {},
   "outputs": [
    {
     "name": "stdout",
     "output_type": "stream",
     "text": [
      "0, {1: {}}\n",
      "1, {0: {}, 2: {}}\n",
      "2, {1: {}, 3: {}}\n",
      "3, {2: {}, 4: {}}\n",
      "4, {3: {}, 5: {}}\n",
      "5, {4: {}, 6: {}}\n",
      "6, {5: {}, 7: {}}\n",
      "7, {6: {}, 8: {}}\n",
      "8, {7: {}, 9: {}}\n",
      "9, {8: {}}\n"
     ]
    }
   ],
   "source": [
    "H = nx.path_graph(10)\n",
    "for n, v in H.adjacency():\n",
    "        print('{}, {}'.format(n,v))"
   ]
  },
  {
   "cell_type": "code",
   "execution_count": 41,
   "metadata": {},
   "outputs": [
    {
     "name": "stdout",
     "output_type": "stream",
     "text": [
      "1, {2: {'weight': 7, 'capacity': 15, 'length': 342.7, 'aa': 7.5}, 0: {'aa': 3.0}}\n",
      "hello, {}\n",
      ", {}\n",
      "2, {1: {'weight': 7, 'capacity': 15, 'length': 342.7, 'aa': 7.5}}\n",
      "0, {1: {'aa': 3.0}}\n"
     ]
    }
   ],
   "source": [
    "import networkx as nx\n",
    "G = nx.Graph()  \n",
    "G.add_node(1)\n",
    "G.add_node('hello')\n",
    "K3 = nx.Graph([(0, 1), (1, 2), (2, 0)])\n",
    "G.add_node(K3)\n",
    "G.number_of_nodes()\n",
    "K3[0][1]['weight']=0.3\n",
    "K3[0][1]\n",
    "G.add_edge(1, 2, weight=3)\n",
    "G[1][2]\n",
    "G.add_edge(1, 2, weight=7, capacity=15, length=342.7)\n",
    "G.edges[1,2]\n",
    "G.add_weighted_edges_from([(0, 1, 3.0), (1, 2, 7.5)], weight='aa')\n",
    "G.edges[0,1]\n",
    "for n, v in G.adjacency():\n",
    "        print('{}, {}'.format(n,v))"
   ]
  },
  {
   "cell_type": "code",
   "execution_count": 20,
   "metadata": {},
   "outputs": [],
   "source": [
    "import pygraphviz as pgv\n",
    "d={'1': {'2': None}, '2': {'1': None, '3': None}, '3': {'2': None}}\n",
    "g=pgv.AGraph(d, directed=True)\n",
    "g.layout(prog='dot')\n",
    "g.draw('sim.png')\n"
   ]
  },
  {
   "cell_type": "code",
   "execution_count": 38,
   "metadata": {},
   "outputs": [
    {
     "name": "stdout",
     "output_type": "stream",
     "text": [
      "strict digraph \"\" {\n",
      "\tgraph [rankdir=LR];\n",
      "\tnode [label=\"\\N\"];\n",
      "\t1\t [color=red,\n",
      "\t\tlabel=A,\n",
      "\t\tstyle=filled];\n",
      "\t1 -> 2\t [color=green];\n",
      "\t1 -> 3;\n",
      "\t2 -> 3;\n",
      "\t5\t [color=blue];\n",
      "\t3 -> 5;\n",
      "\t3 -> 4;\n",
      "\t3 -> 6;\n",
      "\t4 -> 6;\n",
      "}\n",
      "\n"
     ]
    }
   ],
   "source": [
    "A=pgv.AGraph(directed=True,strict=True,rankdir='LR')\n",
    "# add node 1 with color red\n",
    "A.add_node('1',color='red', label='', style='filled') \n",
    "A.add_node(5,color='blue')\n",
    "# add some edges\n",
    "A.add_edge('1',2,color='green')\n",
    "A.add_edge(2,3)\n",
    "A.add_edge('1',3)\n",
    "A.add_edge(3,4)\n",
    "A.add_edge(3,5)\n",
    "A.add_edge(3,6)\n",
    "A.add_edge(4,6)\n",
    "# adjust a graph parameter\n",
    "#A.graph_attr['epsilon']='0.001'\n",
    "print(A.string()) # print dot file to standard output\n",
    "A.layout('dot') # layout with dot\n",
    "img = A.draw(format='png') # write to file\n",
    "plt.show(img)"
   ]
  }
 ],
 "metadata": {
  "kernelspec": {
   "display_name": "Python 3",
   "language": "python",
   "name": "python3"
  },
  "language_info": {
   "codemirror_mode": {
    "name": "ipython",
    "version": 3
   },
   "file_extension": ".py",
   "mimetype": "text/x-python",
   "name": "python",
   "nbconvert_exporter": "python",
   "pygments_lexer": "ipython3",
   "version": "3.6.8"
  }
 },
 "nbformat": 4,
 "nbformat_minor": 2
}
